{
 "cells": [
  {
   "cell_type": "markdown",
   "metadata": {},
   "source": [
    "# Lab 10  Class Part III\n"
   ]
  },
  {
   "cell_type": "markdown",
   "metadata": {},
   "source": [
    "## Ex04  การตรวจสอบค่าที่กำหนดให้กับ Property"
   ]
  },
  {
   "cell_type": "markdown",
   "metadata": {},
   "source": [
    "### การทดลองย่อย 10.4.1 ตรวจสอบช่วงของค่า"
   ]
  },
  {
   "cell_type": "code",
   "execution_count": 1,
   "metadata": {
    "dotnet_interactive": {
     "language": "csharp"
    },
    "polyglot_notebook": {
     "kernelName": "csharp"
    },
    "vscode": {
     "languageId": "csharp"
    }
   },
   "outputs": [
    {
     "data": {
      "text/html": [
       "\r\n",
       "<div>\r\n",
       "    <div id='dotnet-interactive-this-cell-20808.Microsoft.DotNet.Interactive.Http.HttpPort' style='display: none'>\r\n",
       "        The below script needs to be able to find the current output cell; this is an easy method to get it.\r\n",
       "    </div>\r\n",
       "    <script type='text/javascript'>\r\n",
       "async function probeAddresses(probingAddresses) {\r\n",
       "    function timeout(ms, promise) {\r\n",
       "        return new Promise(function (resolve, reject) {\r\n",
       "            setTimeout(function () {\r\n",
       "                reject(new Error('timeout'))\r\n",
       "            }, ms)\r\n",
       "            promise.then(resolve, reject)\r\n",
       "        })\r\n",
       "    }\r\n",
       "\r\n",
       "    if (Array.isArray(probingAddresses)) {\r\n",
       "        for (let i = 0; i < probingAddresses.length; i++) {\r\n",
       "\r\n",
       "            let rootUrl = probingAddresses[i];\r\n",
       "\r\n",
       "            if (!rootUrl.endsWith('/')) {\r\n",
       "                rootUrl = `${rootUrl}/`;\r\n",
       "            }\r\n",
       "\r\n",
       "            try {\r\n",
       "                let response = await timeout(1000, fetch(`${rootUrl}discovery`, {\r\n",
       "                    method: 'POST',\r\n",
       "                    cache: 'no-cache',\r\n",
       "                    mode: 'cors',\r\n",
       "                    timeout: 1000,\r\n",
       "                    headers: {\r\n",
       "                        'Content-Type': 'text/plain'\r\n",
       "                    },\r\n",
       "                    body: probingAddresses[i]\r\n",
       "                }));\r\n",
       "\r\n",
       "                if (response.status == 200) {\r\n",
       "                    return rootUrl;\r\n",
       "                }\r\n",
       "            }\r\n",
       "            catch (e) { }\r\n",
       "        }\r\n",
       "    }\r\n",
       "}\r\n",
       "\r\n",
       "function loadDotnetInteractiveApi() {\r\n",
       "    probeAddresses([\"http://192.168.8.70:2051/\", \"http://127.0.0.1:2051/\"])\r\n",
       "        .then((root) => {\r\n",
       "        // use probing to find host url and api resources\r\n",
       "        // load interactive helpers and language services\r\n",
       "        let dotnetInteractiveRequire = require.config({\r\n",
       "        context: '20808.Microsoft.DotNet.Interactive.Http.HttpPort',\r\n",
       "                paths:\r\n",
       "            {\r\n",
       "                'dotnet-interactive': `${root}resources`\r\n",
       "                }\r\n",
       "        }) || require;\r\n",
       "\r\n",
       "            window.dotnetInteractiveRequire = dotnetInteractiveRequire;\r\n",
       "\r\n",
       "            window.configureRequireFromExtension = function(extensionName, extensionCacheBuster) {\r\n",
       "                let paths = {};\r\n",
       "                paths[extensionName] = `${root}extensions/${extensionName}/resources/`;\r\n",
       "                \r\n",
       "                let internalRequire = require.config({\r\n",
       "                    context: extensionCacheBuster,\r\n",
       "                    paths: paths,\r\n",
       "                    urlArgs: `cacheBuster=${extensionCacheBuster}`\r\n",
       "                    }) || require;\r\n",
       "\r\n",
       "                return internalRequire\r\n",
       "            };\r\n",
       "        \r\n",
       "            dotnetInteractiveRequire([\r\n",
       "                    'dotnet-interactive/dotnet-interactive'\r\n",
       "                ],\r\n",
       "                function (dotnet) {\r\n",
       "                    dotnet.init(window);\r\n",
       "                },\r\n",
       "                function (error) {\r\n",
       "                    console.log(error);\r\n",
       "                }\r\n",
       "            );\r\n",
       "        })\r\n",
       "        .catch(error => {console.log(error);});\r\n",
       "    }\r\n",
       "\r\n",
       "// ensure `require` is available globally\r\n",
       "if ((typeof(require) !==  typeof(Function)) || (typeof(require.config) !== typeof(Function))) {\r\n",
       "    let require_script = document.createElement('script');\r\n",
       "    require_script.setAttribute('src', 'https://cdnjs.cloudflare.com/ajax/libs/require.js/2.3.6/require.min.js');\r\n",
       "    require_script.setAttribute('type', 'text/javascript');\r\n",
       "    \r\n",
       "    \r\n",
       "    require_script.onload = function() {\r\n",
       "        loadDotnetInteractiveApi();\r\n",
       "    };\r\n",
       "\r\n",
       "    document.getElementsByTagName('head')[0].appendChild(require_script);\r\n",
       "}\r\n",
       "else {\r\n",
       "    loadDotnetInteractiveApi();\r\n",
       "}\r\n",
       "\r\n",
       "    </script>\r\n",
       "</div>"
      ]
     },
     "metadata": {},
     "output_type": "display_data"
    }
   ],
   "source": [
    "public class Score\n",
    "{\n",
    "    private int _value;\n",
    "\n",
    "    public int Value\n",
    "    {\n",
    "        get { return _value; }\n",
    "        set\n",
    "        {\n",
    "            if (value >= 0 && value <= 100)\n",
    "            {\n",
    "                _value = value;\n",
    "            }\n",
    "            else\n",
    "            {\n",
    "                throw new ArgumentOutOfRangeException(\"Score must be between 0 and 100.\");\n",
    "            }\n",
    "        }\n",
    "    }\n",
    "}"
   ]
  },
  {
   "cell_type": "markdown",
   "metadata": {},
   "source": [
    "ให้เขียน code เพื่อทำงานดังนี้\n",
    "1. สร้าง object จากคลาส Score\n",
    "2. กำหนดคะแนนในช่วงปกติ\n",
    "3. แสดงคะแนนที่เก็บใน object "
   ]
  },
  {
   "cell_type": "code",
   "execution_count": 2,
   "metadata": {
    "dotnet_interactive": {
     "language": "csharp"
    },
    "polyglot_notebook": {
     "kernelName": "csharp"
    },
    "vscode": {
     "languageId": "csharp"
    }
   },
   "outputs": [
    {
     "data": {
      "text/html": [
       "<div class=\"dni-plaintext\"><pre>70</pre></div><style>\r\n",
       ".dni-code-hint {\r\n",
       "    font-style: italic;\r\n",
       "    overflow: hidden;\r\n",
       "    white-space: nowrap;\r\n",
       "}\r\n",
       ".dni-treeview {\r\n",
       "    white-space: nowrap;\r\n",
       "}\r\n",
       ".dni-treeview td {\r\n",
       "    vertical-align: top;\r\n",
       "    text-align: start;\r\n",
       "}\r\n",
       "details.dni-treeview {\r\n",
       "    padding-left: 1em;\r\n",
       "}\r\n",
       "table td {\r\n",
       "    text-align: start;\r\n",
       "}\r\n",
       "table tr { \r\n",
       "    vertical-align: top; \r\n",
       "    margin: 0em 0px;\r\n",
       "}\r\n",
       "table tr td pre \r\n",
       "{ \r\n",
       "    vertical-align: top !important; \r\n",
       "    margin: 0em 0px !important;\r\n",
       "} \r\n",
       "table th {\r\n",
       "    text-align: start;\r\n",
       "}\r\n",
       "</style>"
      ]
     },
     "execution_count": 2,
     "metadata": {},
     "output_type": "execute_result"
    }
   ],
   "source": [
    "Score sc = new();\n",
    "sc.Value = 70;\n",
    "sc.Value        // เราสามารถเรียกดูค่าโดยไม่ต้องใช้ Console.WriteLine()  แต่ต้องอยู่บรรทุดสุดท้ายเพียงบรทัดเดียว และต้องไม่ใส่ ; ท้ายคำสั่ง \n"
   ]
  },
  {
   "cell_type": "markdown",
   "metadata": {},
   "source": [
    "ให้เขียน code เพื่อทำงานดังนี้\n",
    "1. สร้าง object จากคลาส Score\n",
    "2. กำหนดคะแนนผิดปกติ (เป็นค่าลบ)\n",
    "3. แสดงคะแนนที่เก็บใน object "
   ]
  },
  {
   "cell_type": "code",
   "execution_count": 4,
   "metadata": {
    "vscode": {
     "languageId": "csharp"
    }
   },
   "outputs": [
    {
     "ename": "Error",
     "evalue": "System.ArgumentOutOfRangeException: Specified argument was out of the range of valid values. (Parameter 'Score must be between 0 and 100.')\r\n   at Submission#2.Score.set_Value(Int32 value)\r\n   at Submission#5.<<Initialize>>d__0.MoveNext()\r\n--- End of stack trace from previous location ---\r\n   at Microsoft.CodeAnalysis.Scripting.ScriptExecutionState.RunSubmissionsAsync[TResult](ImmutableArray`1 precedingExecutors, Func`2 currentExecutor, StrongBox`1 exceptionHolderOpt, Func`2 catchExceptionOpt, CancellationToken cancellationToken)",
     "output_type": "error",
     "traceback": [
      "System.ArgumentOutOfRangeException: Specified argument was out of the range of valid values. (Parameter 'Score must be between 0 and 100.')\r\n   at Submission#2.Score.set_Value(Int32 value)\r\n   at Submission#5.<<Initialize>>d__0.MoveNext()\r\n--- End of stack trace from previous location ---\r\n   at Microsoft.CodeAnalysis.Scripting.ScriptExecutionState.RunSubmissionsAsync[TResult](ImmutableArray`1 precedingExecutors, Func`2 currentExecutor, StrongBox`1 exceptionHolderOpt, Func`2 catchExceptionOpt, CancellationToken cancellationToken)",
      "   at Submission#2.Score.set_Value(Int32 value)",
      "   at Submission#5.<<Initialize>>d__0.MoveNext()",
      "--- End of stack trace from previous location ---",
      "   at Microsoft.CodeAnalysis.Scripting.ScriptExecutionState.RunSubmissionsAsync[TResult](ImmutableArray`1 precedingExecutors, Func`2 currentExecutor, StrongBox`1 exceptionHolderOpt, Func`2 catchExceptionOpt, CancellationToken cancellationToken)"
     ]
    }
   ],
   "source": [
    "Score sc = new();\n",
    "sc.Value = -12;\n",
    "sc.Value         \n"
   ]
  },
  {
   "cell_type": "markdown",
   "metadata": {},
   "source": [
    "### การทดลองย่อย 10.4.2 ตรวจสอบรูปแบบของ String (Regular Expression)"
   ]
  },
  {
   "cell_type": "markdown",
   "metadata": {},
   "source": [
    "Regular Expression หรือ Regex คือรูปแบบที่ใช้ในการจับคู่ข้อความ ชุดของอักขระ หรือโทเค็น\n",
    "\n",
    "รูปแบบเหล่านี้ใช้ในการค้นหาและจัดการข้อความ เช่น การตรวจสอบว่าผู้ใช้ป้อนอีเมลในรูปแบบที่ถูกต้องหรือไม่ หรือการแยกคำสำคัญออกจากบทความ\n",
    "\n",
    "Regular Expression มีประโยชน์อย่างมากในการทำงานกับข้อความ เพราะช่วยให้เราสามารถกำหนดรูปแบบที่ซับซ้อนได้อย่างยืดหยุ่น\n",
    "\n",
    "#### ตัวอย่างการใช้งาน\n",
    "- ตรวจสอบรูปแบบอีเมล\n",
    "- ค้นหาคำที่ขึ้นต้นด้วยตัวอักษร \"A\"\n",
    "- แยกหมายเลขโทรศัพท์ออกจากข้อความ\n",
    "- แทนที่คำบางคำในข้อความ\n",
    "\n",
    "#### หลักการทำงาน\n",
    "Regular Expression ประกอบด้วยตัวอักษรและสัญลักษณ์พิเศษที่ใช้ในการกำหนดรูปแบบ\n",
    "\n",
    "|Expression|ความหมาย|\n",
    "|----------|--------|\n",
    "|ตัวอักษร| จับคู่ตัวอักษรนั้นๆ โดยตรง|\n",
    "|. (จุด)| จับคู่ตัวอักษรใดๆ ก็ได้|\n",
    "|*| จับคู่สิ่งที่อยู่ข้างหน้า 0 ครั้งหรือมากกว่า|\n",
    "|+| จับคู่สิ่งที่อยู่ข้างหน้า 1 ครั้งหรือมากกว่า|\n",
    "|?| จับคู่สิ่งที่อยู่ข้างหน้า 0 หรือ 1 ครั้ง|\n",
    "|[]| จับคู่ตัวอักษรใดๆ ที่อยู่ในวงเล็บ|\n",
    "|()| จับกลุ่มของรูปแบบ|\n",
    "\n",
    "#### ตัวอย่าง Regex\n",
    "\n",
    "|รูปแบบ|Regular Expression|\n",
    "|-----|-----|\n",
    "|ตรวจสอบรูปแบบอีเมล|^[a-zA-Z0-9._%+-]+@[a-zA-Z0-9.-]+\\.[a-zA-Z]{2,}$|\n",
    "|ค้นหาคำที่ขึ้นต้นด้วยตัวอักษร \"A\"|\\bA\\w+\\b|\n",
    "|ตรวจสอบหมายเลขโทรศัพท์ในรูปแบบ XXX-XXX-XXXX|\\bA\\w+\\b|\\d{3}-\\d{3}-\\d{4}|"
   ]
  },
  {
   "cell_type": "code",
   "execution_count": 5,
   "metadata": {
    "dotnet_interactive": {
     "language": "csharp"
    },
    "polyglot_notebook": {
     "kernelName": "csharp"
    },
    "vscode": {
     "languageId": "csharp"
    }
   },
   "outputs": [],
   "source": [
    "using System.Text.RegularExpressions;\n",
    "\n",
    "public class Email\n",
    "{\n",
    "    private string _address;\n",
    "\n",
    "    public string Address\n",
    "    {\n",
    "        get { return _address; }\n",
    "        set\n",
    "        {\n",
    "            if (IsValidEmail(value))\n",
    "            {\n",
    "                _address = value;\n",
    "            }\n",
    "            else\n",
    "            {\n",
    "                throw new ArgumentException(\"Invalid email address.\");\n",
    "            }\n",
    "        }\n",
    "    }\n",
    "\n",
    "    private bool IsValidEmail(string value)   // ตรวจสอบรูปแบบโดยใช้ Regular Expressions\n",
    "    {\n",
    "        string pattern = @\"^[a-zA-Z0-9._%+-]+@[a-zA-Z0-9.-]+\\.[a-zA-Z]{2,}$\";\n",
    "        return Regex.IsMatch(value, pattern);\n",
    "    }\n",
    "}\n"
   ]
  },
  {
   "cell_type": "markdown",
   "metadata": {},
   "source": [
    "ให้เขียน code เพื่อทำงานดังนี้\n",
    "1. สร้าง object จากคลาส Email\n",
    "2. กำหนด Email ที่ __ถูกต้อง__\n",
    "3. แสดง email address ที่เก็บใน object "
   ]
  },
  {
   "cell_type": "code",
   "execution_count": 7,
   "metadata": {
    "vscode": {
     "languageId": "csharp"
    }
   },
   "outputs": [
    {
     "ename": "Error",
     "evalue": "System.ArgumentException: Invalid email address.\r\n   at Submission#6.Email.set_Address(String value)\r\n   at Submission#8.<<Initialize>>d__0.MoveNext()\r\n--- End of stack trace from previous location ---\r\n   at Microsoft.CodeAnalysis.Scripting.ScriptExecutionState.RunSubmissionsAsync[TResult](ImmutableArray`1 precedingExecutors, Func`2 currentExecutor, StrongBox`1 exceptionHolderOpt, Func`2 catchExceptionOpt, CancellationToken cancellationToken)",
     "output_type": "error",
     "traceback": [
      "System.ArgumentException: Invalid email address.\r\n   at Submission#6.Email.set_Address(String value)\r\n   at Submission#8.<<Initialize>>d__0.MoveNext()\r\n--- End of stack trace from previous location ---\r\n   at Microsoft.CodeAnalysis.Scripting.ScriptExecutionState.RunSubmissionsAsync[TResult](ImmutableArray`1 precedingExecutors, Func`2 currentExecutor, StrongBox`1 exceptionHolderOpt, Func`2 catchExceptionOpt, CancellationToken cancellationToken)",
      "   at Submission#6.Email.set_Address(String value)",
      "   at Submission#8.<<Initialize>>d__0.MoveNext()",
      "--- End of stack trace from previous location ---",
      "   at Microsoft.CodeAnalysis.Scripting.ScriptExecutionState.RunSubmissionsAsync[TResult](ImmutableArray`1 precedingExecutors, Func`2 currentExecutor, StrongBox`1 exceptionHolderOpt, Func`2 catchExceptionOpt, CancellationToken cancellationToken)"
     ]
    }
   ],
   "source": [
    "Email email = new Email();\n",
    "email.Address = \"input correct email address\"; \n",
    "System.Console.WriteLine(email.Address);"
   ]
  },
  {
   "cell_type": "markdown",
   "metadata": {},
   "source": [
    "ให้เขียน code เพื่อทำงานดังนี้\n",
    "1. สร้าง object จากคลาส Email\n",
    "2. กำหนด Email ที่ __ไม่__ ถูกต้อง\n",
    "3. แสดง email address ที่เก็บใน object "
   ]
  },
  {
   "cell_type": "code",
   "execution_count": 9,
   "metadata": {
    "vscode": {
     "languageId": "csharp"
    }
   },
   "outputs": [
    {
     "name": "stdout",
     "output_type": "stream",
     "text": [
      "Invalid email address!\n",
      "input correct email address\n"
     ]
    }
   ],
   "source": [
    " // พื้นที่เชียน code (สามารถ copy จากด้านบนมาแก้ไขดัดแปลง หรือพิมพ์ใหม่ทั้งหมดก็ได้)\n",
    " using System.Text.RegularExpressions;\n",
    "\n",
    "public class Email \n",
    "{\n",
    "    private string _address;\n",
    "\n",
    "    public string Address\n",
    "    {\n",
    "        get { return _address; }\n",
    "        set \n",
    "        { \n",
    "            // ตรวจสอบว่าอีเมลถูกต้องหรือไม่\n",
    "            if (IsValidEmail(value))\n",
    "            {\n",
    "                _address = value;\n",
    "            }\n",
    "            else\n",
    "            {\n",
    "                Console.WriteLine(\"Invalid email address!\"); \n",
    "                _address = value; \n",
    "            }\n",
    "        }\n",
    "    }\n",
    "\n",
    "    \n",
    "    private bool IsValidEmail(string email)\n",
    "    {\n",
    "        var emailRegex = new Regex(@\"^[^@\\s]+@[^@\\s]+\\.[^@\\s]+$\");\n",
    "        return emailRegex.IsMatch(email);\n",
    "    }\n",
    "}\n",
    "\n",
    "Email email = new Email();\n",
    "email.Address = \"input correct email address\"; // อีเมลที่ไม่ถูก\n",
    "System.Console.WriteLine(email.Address); // แสดงค่าอีเมลที่เก็บใน object"
   ]
  },
  {
   "cell_type": "markdown",
   "metadata": {},
   "source": [
    "### การทดลองย่อย 10.4.3 ตรวจสอบค่า Null หรือ Empty ของ string"
   ]
  },
  {
   "cell_type": "code",
   "execution_count": 10,
   "metadata": {
    "vscode": {
     "languageId": "csharp"
    }
   },
   "outputs": [],
   "source": [
    "public class Name\n",
    "{\n",
    "    private string _firstName;\n",
    "\n",
    "    public string FirstName\n",
    "    {\n",
    "        get { return _firstName; }\n",
    "        set\n",
    "        {\n",
    "            if (!string.IsNullOrEmpty(value))\n",
    "            {\n",
    "                _firstName = value;\n",
    "            }\n",
    "            else\n",
    "            {\n",
    "                throw new ArgumentNullException(\"First name cannot be null or empty.\");\n",
    "            }\n",
    "        }\n",
    "    }\n",
    "}"
   ]
  },
  {
   "cell_type": "markdown",
   "metadata": {},
   "source": [
    "ให้เขียน code เพื่อทำงานดังนี้\n",
    "1. สร้าง object จากคลาส Name\n",
    "2. กำหนดชื่อที่ถูกต้องให้กับ  object.FirstName  \n",
    "3. แสดง  object.FirstName \n",
    "\n",
    "(อย่าลืมรัน code cell ด้านบนก่อน มิฉะนัันจะไม้สามารถใช้งานคลาส Name ได้)"
   ]
  },
  {
   "cell_type": "code",
   "execution_count": 11,
   "metadata": {
    "dotnet_interactive": {
     "language": "csharp"
    },
    "polyglot_notebook": {
     "kernelName": "csharp"
    },
    "vscode": {
     "languageId": "csharp"
    }
   },
   "outputs": [
    {
     "data": {
      "text/plain": [
       "Donale"
      ]
     },
     "execution_count": 11,
     "metadata": {},
     "output_type": "execute_result"
    }
   ],
   "source": [
    "Name man = new Name();\n",
    "man.FirstName = \"Donale\";\n",
    "man.FirstName"
   ]
  },
  {
   "cell_type": "code",
   "execution_count": 13,
   "metadata": {
    "vscode": {
     "languageId": "csharp"
    }
   },
   "outputs": [
    {
     "name": "stdout",
     "output_type": "stream",
     "text": [
      "Noradech\n"
     ]
    }
   ],
   "source": [
    "public class Name\n",
    "{\n",
    "    private string _firstName;\n",
    "\n",
    "    public string FirstName\n",
    "    {\n",
    "        get => _firstName;\n",
    "        set\n",
    "        {\n",
    "            if (string.IsNullOrEmpty(value))\n",
    "            {\n",
    "                throw new ArgumentException(\"first name cannot be null or empty\");\n",
    "            }\n",
    "\n",
    "            _firstName = value;\n",
    "        }\n",
    "    }\n",
    "}\n",
    "\n",
    "\n",
    "Name man = new();\n",
    "\n",
    "try\n",
    "{\n",
    "    man.FirstName = \"Noradech\"; \n",
    "    Console.WriteLine(man.FirstName); \n",
    "}\n",
    "catch (ArgumentException ex)\n",
    "{\n",
    "    Console.WriteLine($\"error: {ex.Message}\"); \n",
    "}"
   ]
  },
  {
   "cell_type": "markdown",
   "metadata": {},
   "source": [
    "ให้เขียน code เพื่อทำงานดังนี้\n",
    "1. สร้าง object จากคลาส Name\n",
    "2. กำหนด object.FirstName เป็น string.Empty\n",
    "3. แสดง  object.FirstName"
   ]
  },
  {
   "cell_type": "code",
   "execution_count": 12,
   "metadata": {
    "vscode": {
     "languageId": "csharp"
    }
   },
   "outputs": [
    {
     "ename": "Error",
     "evalue": "System.ArgumentNullException: Value cannot be null. (Parameter 'First name cannot be null or empty.')\r\n   at Submission#11.Name.set_FirstName(String value)\r\n   at Submission#13.<<Initialize>>d__0.MoveNext()\r\n--- End of stack trace from previous location ---\r\n   at Microsoft.CodeAnalysis.Scripting.ScriptExecutionState.RunSubmissionsAsync[TResult](ImmutableArray`1 precedingExecutors, Func`2 currentExecutor, StrongBox`1 exceptionHolderOpt, Func`2 catchExceptionOpt, CancellationToken cancellationToken)",
     "output_type": "error",
     "traceback": [
      "System.ArgumentNullException: Value cannot be null. (Parameter 'First name cannot be null or empty.')\r\n   at Submission#11.Name.set_FirstName(String value)\r\n   at Submission#13.<<Initialize>>d__0.MoveNext()\r\n--- End of stack trace from previous location ---\r\n   at Microsoft.CodeAnalysis.Scripting.ScriptExecutionState.RunSubmissionsAsync[TResult](ImmutableArray`1 precedingExecutors, Func`2 currentExecutor, StrongBox`1 exceptionHolderOpt, Func`2 catchExceptionOpt, CancellationToken cancellationToken)",
      "   at Submission#11.Name.set_FirstName(String value)",
      "   at Submission#13.<<Initialize>>d__0.MoveNext()",
      "--- End of stack trace from previous location ---",
      "   at Microsoft.CodeAnalysis.Scripting.ScriptExecutionState.RunSubmissionsAsync[TResult](ImmutableArray`1 precedingExecutors, Func`2 currentExecutor, StrongBox`1 exceptionHolderOpt, Func`2 catchExceptionOpt, CancellationToken cancellationToken)"
     ]
    }
   ],
   "source": [
    "Name man = new Name();\n",
    "man.FirstName = string.Empty;\n",
    "man.FirstName"
   ]
  },
  {
   "cell_type": "markdown",
   "metadata": {},
   "source": [
    "ให้เขียน code เพื่อทำงานดังนี้\n",
    "1. สร้าง object จากคลาส Name\n",
    "2. แสดง object.FirstName  โดยไม่ต้องกำหนดค่าใดๆ ให้ FirstName"
   ]
  },
  {
   "cell_type": "code",
   "execution_count": 14,
   "metadata": {
    "vscode": {
     "languageId": "csharp"
    }
   },
   "outputs": [
    {
     "ename": "Error",
     "evalue": "System.ArgumentException: first name cannot be null or empty\r\n   at Submission#14.Name.set_FirstName(String value)\r\n   at Submission#15.<<Initialize>>d__0.MoveNext()\r\n--- End of stack trace from previous location ---\r\n   at Microsoft.CodeAnalysis.Scripting.ScriptExecutionState.RunSubmissionsAsync[TResult](ImmutableArray`1 precedingExecutors, Func`2 currentExecutor, StrongBox`1 exceptionHolderOpt, Func`2 catchExceptionOpt, CancellationToken cancellationToken)",
     "output_type": "error",
     "traceback": [
      "System.ArgumentException: first name cannot be null or empty\r\n   at Submission#14.Name.set_FirstName(String value)\r\n   at Submission#15.<<Initialize>>d__0.MoveNext()\r\n--- End of stack trace from previous location ---\r\n   at Microsoft.CodeAnalysis.Scripting.ScriptExecutionState.RunSubmissionsAsync[TResult](ImmutableArray`1 precedingExecutors, Func`2 currentExecutor, StrongBox`1 exceptionHolderOpt, Func`2 catchExceptionOpt, CancellationToken cancellationToken)",
      "   at Submission#14.Name.set_FirstName(String value)",
      "   at Submission#15.<<Initialize>>d__0.MoveNext()",
      "--- End of stack trace from previous location ---",
      "   at Microsoft.CodeAnalysis.Scripting.ScriptExecutionState.RunSubmissionsAsync[TResult](ImmutableArray`1 precedingExecutors, Func`2 currentExecutor, StrongBox`1 exceptionHolderOpt, Func`2 catchExceptionOpt, CancellationToken cancellationToken)"
     ]
    }
   ],
   "source": [
    "Name man = new Name();\n",
    "man.FirstName = string.Empty;\n",
    "man.FirstName"
   ]
  }
 ],
 "metadata": {
  "kernelspec": {
   "display_name": ".NET (C#)",
   "language": "C#",
   "name": ".net-csharp"
  },
  "language_info": {
   "file_extension": ".cs",
   "mimetype": "text/x-csharp",
   "name": "C#",
   "pygments_lexer": "csharp",
   "version": "12.0"
  },
  "polyglot_notebook": {
   "kernelInfo": {
    "defaultKernelName": "csharp",
    "items": [
     {
      "aliases": [],
      "languageName": "csharp",
      "name": "csharp"
     }
    ]
   }
  }
 },
 "nbformat": 4,
 "nbformat_minor": 2
}
